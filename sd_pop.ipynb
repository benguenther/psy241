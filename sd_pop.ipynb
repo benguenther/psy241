{
 "cells": [
  {
   "cell_type": "markdown",
   "metadata": {},
   "source": [
    "# Standard Deviation (Population) Practice Problems"
   ]
  },
  {
   "cell_type": "code",
   "execution_count": 1,
   "metadata": {},
   "outputs": [],
   "source": [
    "import numpy as np\n",
    "import pandas as pd\n",
    "import random\n",
    "from IPython.display import Latex\n",
    "import math\n",
    "\n",
    "mean = random.sample(range(5, 16), 1)\n",
    "std_dev = random.sample(range(1, 9), 1)\n",
    "sample_size = random.sample(range(4, 9), 1)\n",
    "\n",
    "samples = np.random.normal(mean, std_dev, sample_size)\n",
    "sample = np.round(samples).astype(int)\n",
    "\n",
    "df = pd.DataFrame(sample, columns=['X'])\n",
    "\n",
    "markdown_table = df.to_markdown(index=False)\n",
    "\n",
    "def standard_deviation(data: list):\n",
    "    sum_x = sum(map(lambda x: x, data))\n",
    "    sum_squared_x = sum(map(lambda x: x ** 2, data))\n",
    "    sum_x_squared = sum_x ** 2\n",
    "    n = len(data)\n",
    "    \n",
    "    ss = sum_squared_x - round(sum_x_squared/n, 2)\n",
    "\n",
    "    variance = round(ss, 2) / n\n",
    "\n",
    "    sd = round(math.sqrt(variance), 2)\n",
    "    \n",
    "    return [sum_squared_x, sum_x_squared, n, round(ss, 2), round(variance, 2), round(sd, 2)]\n",
    "\n",
    "values = standard_deviation(sample)"
   ]
  },
  {
   "cell_type": "code",
   "execution_count": 2,
   "metadata": {},
   "outputs": [
    {
     "name": "stdout",
     "output_type": "stream",
     "text": [
      " X\n",
      " 8\n",
      "16\n",
      "11\n",
      " 2\n",
      "11\n",
      " 7\n",
      "13\n"
     ]
    }
   ],
   "source": [
    "print(df.to_string(index=False))"
   ]
  },
  {
   "cell_type": "markdown",
   "metadata": {},
   "source": [
    "## Calculate the SS (sum of the squared deviations)"
   ]
  },
  {
   "cell_type": "code",
   "execution_count": 3,
   "metadata": {},
   "outputs": [
    {
     "data": {
      "text/latex": [
       "\\begin{equation*}\n",
       "SS = \\Sigma x^2 - \\frac{(\\Sigma x)^2}{N}\n",
       "\\end{equation*}"
      ],
      "text/plain": [
       "<IPython.core.display.Latex object>"
      ]
     },
     "execution_count": 3,
     "metadata": {},
     "output_type": "execute_result"
    }
   ],
   "source": [
    "Latex(f\"\"\"\\\\begin{{equation*}}\n",
    "SS = \\\\Sigma x^2 - \\\\frac{{(\\\\Sigma x)^2}}{{N}}\n",
    "\\\\end{{equation*}}\"\"\")"
   ]
  },
  {
   "cell_type": "code",
   "execution_count": 4,
   "metadata": {},
   "outputs": [
    {
     "data": {
      "text/latex": [
       "\\begin{equation*}\n",
       "\\Sigma x^2 = {784}\n",
       "\\end{equation*}"
      ],
      "text/plain": [
       "<IPython.core.display.Latex object>"
      ]
     },
     "execution_count": 4,
     "metadata": {},
     "output_type": "execute_result"
    }
   ],
   "source": [
    "Latex(f\"\"\"\\\\begin{{equation*}}\n",
    "\\\\Sigma x^2 = {{{values[0]}}}\n",
    "\\\\end{{equation*}}\"\"\")"
   ]
  },
  {
   "cell_type": "code",
   "execution_count": 5,
   "metadata": {},
   "outputs": [
    {
     "data": {
      "text/latex": [
       "\\begin{equation*}\n",
       "(\\Sigma x)^2 = {4624}\n",
       "\\end{equation*}"
      ],
      "text/plain": [
       "<IPython.core.display.Latex object>"
      ]
     },
     "execution_count": 5,
     "metadata": {},
     "output_type": "execute_result"
    }
   ],
   "source": [
    "Latex(f\"\"\"\\\\begin{{equation*}}\n",
    "(\\\\Sigma x)^2 = {{{values[1]}}}\n",
    "\\\\end{{equation*}}\"\"\")"
   ]
  },
  {
   "cell_type": "code",
   "execution_count": 6,
   "metadata": {},
   "outputs": [
    {
     "data": {
      "text/latex": [
       "\\begin{equation*}\n",
       "N = {7}\n",
       "\\end{equation*}"
      ],
      "text/plain": [
       "<IPython.core.display.Latex object>"
      ]
     },
     "execution_count": 6,
     "metadata": {},
     "output_type": "execute_result"
    }
   ],
   "source": [
    "Latex(f\"\"\"\\\\begin{{equation*}}\n",
    "N = {{{values[2]}}}\n",
    "\\\\end{{equation*}}\"\"\")"
   ]
  },
  {
   "cell_type": "code",
   "execution_count": 7,
   "metadata": {},
   "outputs": [
    {
     "data": {
      "text/latex": [
       "\\begin{equation*}\n",
       "SS = {784} - \\frac{4624}{7}\n",
       "\\end{equation*}"
      ],
      "text/plain": [
       "<IPython.core.display.Latex object>"
      ]
     },
     "execution_count": 7,
     "metadata": {},
     "output_type": "execute_result"
    }
   ],
   "source": [
    "Latex(f\"\"\"\\\\begin{{equation*}}\n",
    "SS = {{{values[0]}}} - \\\\frac{{{values[1]}}}{{{values[2]}}}\n",
    "\\\\end{{equation*}}\"\"\")"
   ]
  },
  {
   "cell_type": "code",
   "execution_count": 8,
   "metadata": {},
   "outputs": [
    {
     "data": {
      "text/latex": [
       "\\begin{equation*}\n",
       "SS = {784} - {660.57}\n",
       "\\end{equation*}"
      ],
      "text/plain": [
       "<IPython.core.display.Latex object>"
      ]
     },
     "execution_count": 8,
     "metadata": {},
     "output_type": "execute_result"
    }
   ],
   "source": [
    "Latex(f\"\"\"\\\\begin{{equation*}}\n",
    "SS = {{{values[0]}}} - {{{round(values[1]/values[2], 2)}}}\n",
    "\\\\end{{equation*}}\"\"\")"
   ]
  },
  {
   "cell_type": "code",
   "execution_count": 9,
   "metadata": {},
   "outputs": [
    {
     "data": {
      "text/latex": [
       "\\begin{equation*}\n",
       "SS = {123.43}\n",
       "\\end{equation*}"
      ],
      "text/plain": [
       "<IPython.core.display.Latex object>"
      ]
     },
     "execution_count": 9,
     "metadata": {},
     "output_type": "execute_result"
    }
   ],
   "source": [
    "Latex(f\"\"\"\\\\begin{{equation*}}\n",
    "SS = {{{values[3]}}}\n",
    "\\\\end{{equation*}}\"\"\")"
   ]
  },
  {
   "cell_type": "markdown",
   "metadata": {},
   "source": [
    "## Calculate the Variance"
   ]
  },
  {
   "cell_type": "code",
   "execution_count": 10,
   "metadata": {},
   "outputs": [
    {
     "data": {
      "text/latex": [
       "\\begin{equation*}\n",
       "\\sigma^2 = \\frac{SS}{N}\n",
       "\\end{equation*}"
      ],
      "text/plain": [
       "<IPython.core.display.Latex object>"
      ]
     },
     "execution_count": 10,
     "metadata": {},
     "output_type": "execute_result"
    }
   ],
   "source": [
    "Latex(f\"\"\"\\\\begin{{equation*}}\n",
    "\\\\sigma^2 = \\\\frac{{SS}}{{N}}\n",
    "\\\\end{{equation*}}\"\"\")"
   ]
  },
  {
   "cell_type": "code",
   "execution_count": 11,
   "metadata": {},
   "outputs": [
    {
     "data": {
      "text/latex": [
       "\\begin{equation*}\n",
       "\\sigma^2 = \\frac{123.43}{7}\n",
       "\\end{equation*}"
      ],
      "text/plain": [
       "<IPython.core.display.Latex object>"
      ]
     },
     "execution_count": 11,
     "metadata": {},
     "output_type": "execute_result"
    }
   ],
   "source": [
    "Latex(f\"\"\"\\\\begin{{equation*}}\n",
    "\\\\sigma^2 = \\\\frac{{{values[3]}}}{{{values[2]}}}\n",
    "\\\\end{{equation*}}\"\"\")"
   ]
  },
  {
   "cell_type": "code",
   "execution_count": 12,
   "metadata": {},
   "outputs": [
    {
     "data": {
      "text/latex": [
       "\\begin{equation*}\n",
       "\\sigma^2 = {17.63}\n",
       "\\end{equation*}"
      ],
      "text/plain": [
       "<IPython.core.display.Latex object>"
      ]
     },
     "execution_count": 12,
     "metadata": {},
     "output_type": "execute_result"
    }
   ],
   "source": [
    "Latex(f\"\"\"\\\\begin{{equation*}}\n",
    "\\\\sigma^2 = {{{values[4]}}}\n",
    "\\\\end{{equation*}}\"\"\")"
   ]
  },
  {
   "cell_type": "markdown",
   "metadata": {},
   "source": [
    "## Calculate the Standard Deviation"
   ]
  },
  {
   "cell_type": "code",
   "execution_count": 13,
   "metadata": {},
   "outputs": [
    {
     "data": {
      "text/latex": [
       "\\begin{equation*}\n",
       "\\sigma = \\sqrt{\\sigma^2}\n",
       "\\end{equation*}"
      ],
      "text/plain": [
       "<IPython.core.display.Latex object>"
      ]
     },
     "execution_count": 13,
     "metadata": {},
     "output_type": "execute_result"
    }
   ],
   "source": [
    "Latex(f\"\"\"\\\\begin{{equation*}}\n",
    "\\\\sigma = \\\\sqrt{{\\\\sigma^2}}\n",
    "\\\\end{{equation*}}\"\"\")"
   ]
  },
  {
   "cell_type": "code",
   "execution_count": 14,
   "metadata": {},
   "outputs": [
    {
     "data": {
      "text/latex": [
       "\\begin{equation*}\n",
       "\\sigma = \\sqrt{17.63}\n",
       "\\end{equation*}"
      ],
      "text/plain": [
       "<IPython.core.display.Latex object>"
      ]
     },
     "execution_count": 14,
     "metadata": {},
     "output_type": "execute_result"
    }
   ],
   "source": [
    "Latex(f\"\"\"\\\\begin{{equation*}}\n",
    "\\\\sigma = \\\\sqrt{{{values[4]}}}\n",
    "\\\\end{{equation*}}\"\"\")"
   ]
  },
  {
   "cell_type": "code",
   "execution_count": 15,
   "metadata": {},
   "outputs": [
    {
     "data": {
      "text/latex": [
       "\\begin{equation*}\n",
       "\\sigma = {4.2}\n",
       "\\end{equation*}"
      ],
      "text/plain": [
       "<IPython.core.display.Latex object>"
      ]
     },
     "execution_count": 15,
     "metadata": {},
     "output_type": "execute_result"
    }
   ],
   "source": [
    "Latex(f\"\"\"\\\\begin{{equation*}}\n",
    "\\\\sigma = {{{values[5]}}}\n",
    "\\\\end{{equation*}}\"\"\")"
   ]
  }
 ],
 "metadata": {
  "kernelspec": {
   "display_name": "base",
   "language": "python",
   "name": "python3"
  },
  "language_info": {
   "codemirror_mode": {
    "name": "ipython",
    "version": 3
   },
   "file_extension": ".py",
   "mimetype": "text/x-python",
   "name": "python",
   "nbconvert_exporter": "python",
   "pygments_lexer": "ipython3",
   "version": "3.12.7"
  }
 },
 "nbformat": 4,
 "nbformat_minor": 2
}
