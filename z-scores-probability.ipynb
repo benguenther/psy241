{
 "cells": [
  {
   "cell_type": "markdown",
   "metadata": {},
   "source": [
    "# *z*-Scores and Probability\n",
    "\n",
    "To generate a new problem and solution, select \"*run all*\" from the __Runtime__ menu. "
   ]
  },
  {
   "cell_type": "code",
   "execution_count": 12,
   "metadata": {},
   "outputs": [
    {
     "name": "stdout",
     "output_type": "stream",
     "text": [
      "\n",
      "        What proportion of the normal distribution corresponds to z-score values\n",
      "        between -1.13 and 1.94?\n"
     ]
    },
    {
     "data": {
      "image/png": "[encoded data removed]",
      "text/plain": [
       "<Figure size 640x480 with 1 Axes>"
      ]
     },
     "metadata": {},
     "output_type": "display_data"
    }
   ],
   "source": [
    "# @title Click to hide code\n",
    "import numpy as np\n",
    "import random\n",
    "import matplotlib.pyplot as plt\n",
    "import scipy.stats as stats\n",
    "from IPython.display import Markdown, display\n",
    "import seaborn as sns\n",
    "\n",
    "# function to determine the question.  returns the z-score(s) for the problem\n",
    "def generate_question():\n",
    "    roll = random.randint(1,3)\n",
    "    z_1 = round(random.uniform(-3,3), 2)\n",
    "    values = [roll, z_1]\n",
    "    if roll == 1:\n",
    "        question = f\"\"\"\n",
    "        What proportion of the normal distribution corresponds to z-score values\n",
    "         greater than {z_1}\"\"\"\n",
    "    elif roll == 2: \n",
    "        question = f\"\"\"\n",
    "        What proportion of the normal distribution corresponds to z-score values\n",
    "         less than {z_1}\"\"\"\n",
    "    else:\n",
    "        z_2 = round(random.uniform(1,4), 2)\n",
    "        values.append(z_2)\n",
    "        question = f\"\"\"\n",
    "        What proportion of the normal distribution corresponds to z-score values\n",
    "        between {z_1} and {z_2}?\"\"\"\n",
    "    \n",
    "    print(question)\n",
    "    return values\n",
    "\n",
    "\n",
    "# function to generate the distribution plot and shaded region\n",
    "def generate_plot(z: list): \n",
    "    mean = 0\n",
    "    sd = 1\n",
    "\n",
    "    # generate x values\n",
    "    x = np.linspace(mean - 4*sd, mean + 4*sd, 1000)\n",
    "\n",
    "    # generate y values\n",
    "    y = stats.norm.pdf(x, mean, sd)\n",
    "\n",
    "    plt.plot(x, y)\n",
    "    plt.title(f\"$\\\\mu$ = {mean}, $\\\\sigma$ = {sd}\")\n",
    "    plt.xlabel('z')\n",
    "    plt.grid(False)\n",
    "    plt.yticks([])\n",
    "    \n",
    "    if z[0] == 1:\n",
    "         plt.fill_between(x, y, where=(x >= z[1]), color='skyblue', alpha=0.5)\n",
    "    elif z[0] == 2:\n",
    "         plt.fill_between(x, y, where=(x <= z[1]), color='skyblue', alpha=0.5)\n",
    "    else:\n",
    "        vals = sorted([z[1], z[2]])\n",
    "        plt.fill_between(x, y, where=(x >= vals[0]) & (x <= vals[1]), color='skyblue', alpha=0.5)\n",
    "  \n",
    "      \n",
    "    plt.show()\n",
    "\n",
    "\n",
    "z_scores = generate_question()\n",
    "generate_plot(z_scores)"
   ]
  },
  {
   "cell_type": "code",
   "execution_count": 13,
   "metadata": {},
   "outputs": [
    {
     "name": "stdout",
     "output_type": "stream",
     "text": [
      "p(-1.13 < z < 1.94) = 0.8446\n"
     ]
    }
   ],
   "source": [
    "# @title Click to hide code\n",
    "def problem_solution(data: list):\n",
    "    if data[0] == 1:\n",
    "        answer = 1 - round(stats.norm.cdf(data[1]), 4)\n",
    "        text = f\"p(z > {data[1]}) = {round(answer, 4)}\"\n",
    "    elif data[0] == 2:\n",
    "        answer = round(stats.norm.cdf(data[1]), 4)\n",
    "        text = f\"p(z < {data[1]}) = {round(answer, 4)}\"\n",
    "    else:\n",
    "        dvals = sorted([data[1], data[2]])\n",
    "        answer = round(stats.norm.cdf(dvals[1]), 4) - round(stats.norm.cdf(dvals[0]), 4)\n",
    "        text = f\"p({dvals[0]} < z < {dvals[1]}) = {round(answer, 4)}\"\n",
    "\n",
    "    return text\n",
    "\n",
    "\n",
    "print(problem_solution(z_scores))"
   ]
  }
 ],
 "metadata": {
  "kernelspec": {
   "display_name": "base",
   "language": "python",
   "name": "python3"
  },
  "language_info": {
   "codemirror_mode": {
    "name": "ipython",
    "version": 3
   },
   "file_extension": ".py",
   "mimetype": "text/x-python",
   "name": "python",
   "nbconvert_exporter": "python",
   "pygments_lexer": "ipython3",
   "version": "3.12.7"
  }
 },
 "nbformat": 4,
 "nbformat_minor": 2
}
