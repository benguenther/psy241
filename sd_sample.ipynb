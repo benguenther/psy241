{
 "cells": [
  {
   "cell_type": "markdown",
   "metadata": {},
   "source": [
    "# Standard Deviation (Sample) Practice Problems"
   ]
  },
  {
   "cell_type": "code",
   "execution_count": 32,
   "metadata": {},
   "outputs": [],
   "source": [
    "import numpy as np\n",
    "import pandas as pd\n",
    "import random\n",
    "from IPython.display import Latex\n",
    "import math\n",
    "\n",
    "mean = random.sample(range(5, 16), 1)\n",
    "std_dev = random.sample(range(1, 9), 1)\n",
    "sample_size = random.sample(range(4, 9), 1)\n",
    "\n",
    "samples = np.random.normal(mean, std_dev, sample_size)\n",
    "sample = np.round(samples).astype(int)\n",
    "\n",
    "df = pd.DataFrame(sample, columns=['X'])\n",
    "\n",
    "markdown_table = df.to_markdown(index=False)\n",
    "\n",
    "def standard_deviation(data: list):\n",
    "    sum_x = sum(map(lambda x: x, data))\n",
    "    sum_squared_x = sum(map(lambda x: x ** 2, data))\n",
    "    sum_x_squared = sum_x ** 2\n",
    "    n = len(data)\n",
    "    \n",
    "    ss = sum_squared_x - round(sum_x_squared/n, 2)\n",
    "\n",
    "    variance = round(ss, 2) / n\n",
    "\n",
    "    sd = round(math.sqrt(variance), 2)\n",
    "    \n",
    "    return [sum_squared_x, sum_x_squared, n, round(ss, 2), round(variance, 2), round(sd, 2)]\n",
    "\n",
    "values = standard_deviation(sample)"
   ]
  },
  {
   "cell_type": "code",
   "execution_count": 33,
   "metadata": {},
   "outputs": [
    {
     "name": "stdout",
     "output_type": "stream",
     "text": [
      " X\n",
      "22\n",
      " 7\n",
      "33\n",
      "16\n"
     ]
    }
   ],
   "source": [
    "print(df.to_string(index=False))"
   ]
  },
  {
   "cell_type": "markdown",
   "metadata": {},
   "source": [
    "## Calculate the SS (sum of the squared deviations)"
   ]
  },
  {
   "cell_type": "code",
   "execution_count": 34,
   "metadata": {},
   "outputs": [
    {
     "data": {
      "text/latex": [
       "\\begin{equation*}\n",
       "SS = \\Sigma x^2 - \\frac{(\\Sigma x)^2}{N}\n",
       "\\end{equation*}"
      ],
      "text/plain": [
       "<IPython.core.display.Latex object>"
      ]
     },
     "execution_count": 34,
     "metadata": {},
     "output_type": "execute_result"
    }
   ],
   "source": [
    "Latex(f\"\"\"\\\\begin{{equation*}}\n",
    "SS = \\\\Sigma x^2 - \\\\frac{{(\\\\Sigma x)^2}}{{N}}\n",
    "\\\\end{{equation*}}\"\"\")"
   ]
  },
  {
   "cell_type": "code",
   "execution_count": 35,
   "metadata": {},
   "outputs": [
    {
     "data": {
      "text/latex": [
       "\\begin{equation*}\n",
       "\\Sigma x^2 = {1878}\n",
       "\\end{equation*}"
      ],
      "text/plain": [
       "<IPython.core.display.Latex object>"
      ]
     },
     "execution_count": 35,
     "metadata": {},
     "output_type": "execute_result"
    }
   ],
   "source": [
    "Latex(f\"\"\"\\\\begin{{equation*}}\n",
    "\\\\Sigma x^2 = {{{values[0]}}}\n",
    "\\\\end{{equation*}}\"\"\")"
   ]
  },
  {
   "cell_type": "code",
   "execution_count": 36,
   "metadata": {},
   "outputs": [
    {
     "data": {
      "text/latex": [
       "\\begin{equation*}\n",
       "(\\Sigma x)^2 = {6084}\n",
       "\\end{equation*}"
      ],
      "text/plain": [
       "<IPython.core.display.Latex object>"
      ]
     },
     "execution_count": 36,
     "metadata": {},
     "output_type": "execute_result"
    }
   ],
   "source": [
    "Latex(f\"\"\"\\\\begin{{equation*}}\n",
    "(\\\\Sigma x)^2 = {{{values[1]}}}\n",
    "\\\\end{{equation*}}\"\"\")"
   ]
  },
  {
   "cell_type": "code",
   "execution_count": 37,
   "metadata": {},
   "outputs": [
    {
     "data": {
      "text/latex": [
       "\\begin{equation*}\n",
       "N = {4}\n",
       "\\end{equation*}"
      ],
      "text/plain": [
       "<IPython.core.display.Latex object>"
      ]
     },
     "execution_count": 37,
     "metadata": {},
     "output_type": "execute_result"
    }
   ],
   "source": [
    "Latex(f\"\"\"\\\\begin{{equation*}}\n",
    "N = {{{values[2]}}}\n",
    "\\\\end{{equation*}}\"\"\")"
   ]
  },
  {
   "cell_type": "code",
   "execution_count": 38,
   "metadata": {},
   "outputs": [
    {
     "data": {
      "text/latex": [
       "\\begin{equation*}\n",
       "SS = {1878} - \\frac{6084}{4}\n",
       "\\end{equation*}"
      ],
      "text/plain": [
       "<IPython.core.display.Latex object>"
      ]
     },
     "execution_count": 38,
     "metadata": {},
     "output_type": "execute_result"
    }
   ],
   "source": [
    "Latex(f\"\"\"\\\\begin{{equation*}}\n",
    "SS = {{{values[0]}}} - \\\\frac{{{values[1]}}}{{{values[2]}}}\n",
    "\\\\end{{equation*}}\"\"\")"
   ]
  },
  {
   "cell_type": "code",
   "execution_count": 39,
   "metadata": {},
   "outputs": [
    {
     "data": {
      "text/latex": [
       "\\begin{equation*}\n",
       "SS = {1878} - {1521.0}\n",
       "\\end{equation*}"
      ],
      "text/plain": [
       "<IPython.core.display.Latex object>"
      ]
     },
     "execution_count": 39,
     "metadata": {},
     "output_type": "execute_result"
    }
   ],
   "source": [
    "Latex(f\"\"\"\\\\begin{{equation*}}\n",
    "SS = {{{values[0]}}} - {{{round(values[1]/values[2], 2)}}}\n",
    "\\\\end{{equation*}}\"\"\")"
   ]
  },
  {
   "cell_type": "code",
   "execution_count": 40,
   "metadata": {},
   "outputs": [
    {
     "data": {
      "text/latex": [
       "\\begin{equation*}\n",
       "SS = {357.0}\n",
       "\\end{equation*}"
      ],
      "text/plain": [
       "<IPython.core.display.Latex object>"
      ]
     },
     "execution_count": 40,
     "metadata": {},
     "output_type": "execute_result"
    }
   ],
   "source": [
    "Latex(f\"\"\"\\\\begin{{equation*}}\n",
    "SS = {{{values[3]}}}\n",
    "\\\\end{{equation*}}\"\"\")"
   ]
  },
  {
   "cell_type": "markdown",
   "metadata": {},
   "source": [
    "## Calculate the Variance"
   ]
  },
  {
   "cell_type": "code",
   "execution_count": 41,
   "metadata": {},
   "outputs": [
    {
     "data": {
      "text/latex": [
       "\\begin{equation*}\n",
       "s^2 = \\frac{SS}{n - 1}\n",
       "\\end{equation*}"
      ],
      "text/plain": [
       "<IPython.core.display.Latex object>"
      ]
     },
     "execution_count": 41,
     "metadata": {},
     "output_type": "execute_result"
    }
   ],
   "source": [
    "Latex(f\"\"\"\\\\begin{{equation*}}\n",
    "s^2 = \\\\frac{{SS}}{{n - 1}}\n",
    "\\\\end{{equation*}}\"\"\")"
   ]
  },
  {
   "cell_type": "code",
   "execution_count": 42,
   "metadata": {},
   "outputs": [
    {
     "data": {
      "text/latex": [
       "\\begin{equation*}\n",
       "s^2 = \\frac{357.0}{3}\n",
       "\\end{equation*}"
      ],
      "text/plain": [
       "<IPython.core.display.Latex object>"
      ]
     },
     "execution_count": 42,
     "metadata": {},
     "output_type": "execute_result"
    }
   ],
   "source": [
    "Latex(f\"\"\"\\\\begin{{equation*}}\n",
    "s^2 = \\\\frac{{{values[3]}}}{{{(values[2]) - 1}}}\n",
    "\\\\end{{equation*}}\"\"\")"
   ]
  },
  {
   "cell_type": "code",
   "execution_count": 43,
   "metadata": {},
   "outputs": [
    {
     "data": {
      "text/latex": [
       "\\begin{equation*}\n",
       "s^2 = {89.25}\n",
       "\\end{equation*}"
      ],
      "text/plain": [
       "<IPython.core.display.Latex object>"
      ]
     },
     "execution_count": 43,
     "metadata": {},
     "output_type": "execute_result"
    }
   ],
   "source": [
    "Latex(f\"\"\"\\\\begin{{equation*}}\n",
    "s^2 = {{{values[4]}}}\n",
    "\\\\end{{equation*}}\"\"\")"
   ]
  },
  {
   "cell_type": "markdown",
   "metadata": {},
   "source": [
    "## Calculate the Standard Deviation"
   ]
  },
  {
   "cell_type": "code",
   "execution_count": 44,
   "metadata": {},
   "outputs": [
    {
     "data": {
      "text/latex": [
       "\\begin{equation*}\n",
       "s = \\sqrt{s^2}\n",
       "\\end{equation*}"
      ],
      "text/plain": [
       "<IPython.core.display.Latex object>"
      ]
     },
     "execution_count": 44,
     "metadata": {},
     "output_type": "execute_result"
    }
   ],
   "source": [
    "Latex(f\"\"\"\\\\begin{{equation*}}\n",
    "s = \\\\sqrt{{s^2}}\n",
    "\\\\end{{equation*}}\"\"\")"
   ]
  },
  {
   "cell_type": "code",
   "execution_count": 45,
   "metadata": {},
   "outputs": [
    {
     "data": {
      "text/latex": [
       "\\begin{equation*}\n",
       "s = \\sqrt{89.25}\n",
       "\\end{equation*}"
      ],
      "text/plain": [
       "<IPython.core.display.Latex object>"
      ]
     },
     "execution_count": 45,
     "metadata": {},
     "output_type": "execute_result"
    }
   ],
   "source": [
    "Latex(f\"\"\"\\\\begin{{equation*}}\n",
    "s = \\\\sqrt{{{values[4]}}}\n",
    "\\\\end{{equation*}}\"\"\")"
   ]
  },
  {
   "cell_type": "code",
   "execution_count": 46,
   "metadata": {},
   "outputs": [
    {
     "data": {
      "text/latex": [
       "\\begin{equation*}\n",
       "s = {9.45}\n",
       "\\end{equation*}"
      ],
      "text/plain": [
       "<IPython.core.display.Latex object>"
      ]
     },
     "execution_count": 46,
     "metadata": {},
     "output_type": "execute_result"
    }
   ],
   "source": [
    "Latex(f\"\"\"\\\\begin{{equation*}}\n",
    "s = {{{values[5]}}}\n",
    "\\\\end{{equation*}}\"\"\")"
   ]
  }
 ],
 "metadata": {
  "kernelspec": {
   "display_name": "base",
   "language": "python",
   "name": "python3"
  },
  "language_info": {
   "codemirror_mode": {
    "name": "ipython",
    "version": 3
   },
   "file_extension": ".py",
   "mimetype": "text/x-python",
   "name": "python",
   "nbconvert_exporter": "python",
   "pygments_lexer": "ipython3",
   "version": "3.12.7"
  }
 },
 "nbformat": 4,
 "nbformat_minor": 2
}
