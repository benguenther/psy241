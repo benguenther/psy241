{
 "cells": [
  {
   "cell_type": "markdown",
   "metadata": {},
   "source": [
    "# *z*-Score Practice Problems\n",
    "\n",
    "To generate a new problem and solution, select \"*run all*\" from the __Runtime__ menu. "
   ]
  },
  {
   "cell_type": "code",
   "execution_count": 103,
   "metadata": {},
   "outputs": [
    {
     "data": {
      "image/png": "[encoded data removed]",
      "text/plain": [
       "<Figure size 640x480 with 1 Axes>"
      ]
     },
     "metadata": {},
     "output_type": "display_data"
    }
   ],
   "source": [
    "import numpy as np\n",
    "import random\n",
    "import matplotlib.pyplot as plt\n",
    "import scipy.stats as stats\n",
    "from IPython.display import Markdown, display\n",
    "\n",
    "\n",
    "# set the mean and SD for the distribution\n",
    "mean = random.randint(5, 101)\n",
    "sd = random.randint(1, 21)\n",
    "\n",
    "# set the value for X to be used in the practice problem\n",
    "score_multiplier = random.uniform(0, 3)\n",
    "score_distance = round(sd * score_multiplier)\n",
    "if random.random() < 0.5:\n",
    "    score = mean - score_distance\n",
    "else:\n",
    "    score = mean + score_distance\n",
    "\n",
    "# generate x values\n",
    "x = np.linspace(mean - 4*sd, mean + 4*sd, 1000)\n",
    "\n",
    "# generate y values\n",
    "y = stats.norm.pdf(x, mean, sd)\n",
    "\n",
    "# Find the corresponding y value on the distribution curve\n",
    "y_position = np.interp(score, x, y)\n",
    "\n",
    "# Plot the vertical line, limiting its height to the distribution\n",
    "plt.vlines(x=score, ymin=0, ymax=y_position, color='black', linestyle='--', label=f'X = {score}')\n",
    "\n",
    "\n",
    "# Plot the Distribution\n",
    "plt.plot(x, y)\n",
    "plt.title(f\"Normal Distribution ($\\\\mu$ = {mean}, $\\\\sigma$ = {sd})\")\n",
    "plt.xlabel('X')\n",
    "plt.grid(False)\n",
    "plt.yticks([])\n",
    "plt.legend()\n",
    "plt.show()"
   ]
  },
  {
   "cell_type": "markdown",
   "metadata": {},
   "source": [
    "### Calculating a *z*-score\n",
    "\n",
    "Based on the above plot, what is the *z*-score for X?"
   ]
  },
  {
   "cell_type": "code",
   "execution_count": 104,
   "metadata": {},
   "outputs": [
    {
     "data": {
      "text/markdown": [
       "$ z = \\frac{X - \\mu}{\\sigma}$"
      ],
      "text/plain": [
       "<IPython.core.display.Markdown object>"
      ]
     },
     "metadata": {},
     "output_type": "display_data"
    }
   ],
   "source": [
    "display(Markdown(f\"\"\"$ z = \\\\frac{{X - \\\\mu}}{{\\\\sigma}}$\"\"\"))"
   ]
  },
  {
   "cell_type": "code",
   "execution_count": 105,
   "metadata": {},
   "outputs": [
    {
     "data": {
      "text/markdown": [
       "$ z = \\frac{110 - 87}{12}$"
      ],
      "text/plain": [
       "<IPython.core.display.Markdown object>"
      ]
     },
     "metadata": {},
     "output_type": "display_data"
    }
   ],
   "source": [
    "display(Markdown(f\"\"\"$ z = \\\\frac{{{score} - {mean}}}{{{sd}}}$\"\"\"))"
   ]
  },
  {
   "cell_type": "code",
   "execution_count": 106,
   "metadata": {},
   "outputs": [
    {
     "data": {
      "text/markdown": [
       "$ z = \\frac{23}{12}$"
      ],
      "text/plain": [
       "<IPython.core.display.Markdown object>"
      ]
     },
     "metadata": {},
     "output_type": "display_data"
    }
   ],
   "source": [
    "display(Markdown(f\"\"\"$ z = \\\\frac{{{score - mean}}}{{{sd}}}$\"\"\"))"
   ]
  },
  {
   "cell_type": "code",
   "execution_count": 107,
   "metadata": {},
   "outputs": [
    {
     "data": {
      "text/markdown": [
       "$ z = {1.92}$"
      ],
      "text/plain": [
       "<IPython.core.display.Markdown object>"
      ]
     },
     "metadata": {},
     "output_type": "display_data"
    }
   ],
   "source": [
    "display(Markdown(f\"\"\"$ z = {{{round(((score - mean)/sd),2)}}}$\"\"\"))"
   ]
  },
  {
   "cell_type": "markdown",
   "metadata": {},
   "source": [
    "### Determining a Raw Score from a *z*-Score"
   ]
  },
  {
   "cell_type": "code",
   "execution_count": 108,
   "metadata": {},
   "outputs": [
    {
     "data": {
      "text/markdown": [
       "Using the above distribution, \n",
       "                 what is the raw score that corresponds to a z-score of ${2.12}$?"
      ],
      "text/plain": [
       "<IPython.core.display.Markdown object>"
      ]
     },
     "metadata": {},
     "output_type": "display_data"
    }
   ],
   "source": [
    "z_score = round((random.uniform(0, 3)),2)\n",
    "\n",
    "display(Markdown(f\"\"\"Using the above distribution, \n",
    "                 what is the raw score that corresponds to a z-score of ${{{z_score}}}$?\"\"\"))"
   ]
  },
  {
   "cell_type": "code",
   "execution_count": 109,
   "metadata": {},
   "outputs": [
    {
     "data": {
      "text/markdown": [
       "$ X = \\mu + z\\sigma$"
      ],
      "text/plain": [
       "<IPython.core.display.Markdown object>"
      ]
     },
     "metadata": {},
     "output_type": "display_data"
    }
   ],
   "source": [
    "display(Markdown(f\"\"\"$ X = \\\\mu + z\\\\sigma$\"\"\"))"
   ]
  },
  {
   "cell_type": "code",
   "execution_count": 110,
   "metadata": {},
   "outputs": [
    {
     "data": {
      "text/markdown": [
       "$ X = {87} + {2.12}({12})$"
      ],
      "text/plain": [
       "<IPython.core.display.Markdown object>"
      ]
     },
     "metadata": {},
     "output_type": "display_data"
    }
   ],
   "source": [
    "display(Markdown(f\"\"\"$ X = {{{mean}}} + {{{z_score}}}({{{sd}}})$\"\"\"))"
   ]
  },
  {
   "cell_type": "code",
   "execution_count": 111,
   "metadata": {},
   "outputs": [
    {
     "data": {
      "text/markdown": [
       "$ X = {87} + {25.44}$"
      ],
      "text/plain": [
       "<IPython.core.display.Markdown object>"
      ]
     },
     "metadata": {},
     "output_type": "display_data"
    }
   ],
   "source": [
    "display(Markdown(f\"\"\"$ X = {{{mean}}} + {{{round((z_score * sd),2)}}}$\"\"\"))"
   ]
  },
  {
   "cell_type": "code",
   "execution_count": 112,
   "metadata": {},
   "outputs": [
    {
     "data": {
      "text/markdown": [
       "$ X = {112.44}$"
      ],
      "text/plain": [
       "<IPython.core.display.Markdown object>"
      ]
     },
     "metadata": {},
     "output_type": "display_data"
    }
   ],
   "source": [
    "display(Markdown(f\"\"\"$ X = {{{round((mean + round((z_score * sd),2)),2)}}}$\"\"\"))"
   ]
  }
 ],
 "metadata": {
  "kernelspec": {
   "display_name": "base",
   "language": "python",
   "name": "python3"
  },
  "language_info": {
   "codemirror_mode": {
    "name": "ipython",
    "version": 3
   },
   "file_extension": ".py",
   "mimetype": "text/x-python",
   "name": "python",
   "nbconvert_exporter": "python",
   "pygments_lexer": "ipython3",
   "version": "3.12.7"
  }
 },
 "nbformat": 4,
 "nbformat_minor": 2
}
