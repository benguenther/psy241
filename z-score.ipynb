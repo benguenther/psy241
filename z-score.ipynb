{
 "cells": [
  {
   "cell_type": "markdown",
   "metadata": {},
   "source": [
    "# *z*-Score Practice Problems\n",
    "\n",
    "To generate a new problem and solution, select \"*run all*\" from the __Runtime__ menu. "
   ]
  },
  {
   "cell_type": "code",
   "execution_count": null,
   "metadata": {},
   "outputs": [
    {
     "data": {
      "image/png": "[encoded data removed]",
      "text/plain": [
       "<Figure size 640x480 with 1 Axes>"
      ]
     },
     "metadata": {},
     "output_type": "display_data"
    }
   ],
   "source": [
    "# @title Click to hide code\n",
    "import numpy as np\n",
    "import random\n",
    "import matplotlib.pyplot as plt\n",
    "import scipy.stats as stats\n",
    "from IPython.display import Markdown, display\n",
    "\n",
    "\n",
    "# set the mean and SD for the distribution\n",
    "mean = random.randint(5, 101)\n",
    "sd = random.randint(1, 21)\n",
    "\n",
    "# set the value for X to be used in the practice problem\n",
    "score_multiplier = random.uniform(0, 3)\n",
    "score_distance = round(sd * score_multiplier)\n",
    "if random.random() < 0.5:\n",
    "    score = mean - score_distance\n",
    "else:\n",
    "    score = mean + score_distance\n",
    "\n",
    "# generate x values\n",
    "x = np.linspace(mean - 4*sd, mean + 4*sd, 1000)\n",
    "\n",
    "# generate y values\n",
    "y = stats.norm.pdf(x, mean, sd)\n",
    "\n",
    "# Find the corresponding y value on the distribution curve\n",
    "y_position = np.interp(score, x, y)\n",
    "\n",
    "# Plot the vertical line, limiting its height to the distribution\n",
    "plt.vlines(x=score, ymin=0, ymax=y_position, color='black', linestyle='--', label=f'X = {score}')\n",
    "\n",
    "\n",
    "# Plot the Distribution\n",
    "plt.plot(x, y)\n",
    "plt.title(f\"Normal Distribution ($\\\\mu$ = {mean}, $\\\\sigma$ = {sd})\")\n",
    "plt.xlabel('X')\n",
    "plt.grid(False)\n",
    "plt.yticks([])\n",
    "plt.legend()\n",
    "plt.show()"
   ]
  },
  {
   "cell_type": "markdown",
   "metadata": {},
   "source": [
    "### Calculating a *z*-score\n",
    "\n",
    "Based on the above plot, what is the *z*-score for X?"
   ]
  },
  {
   "cell_type": "code",
   "execution_count": null,
   "metadata": {},
   "outputs": [
    {
     "data": {
      "text/markdown": [
       "$ z = \\frac{X - \\mu}{\\sigma}$"
      ],
      "text/plain": [
       "<IPython.core.display.Markdown object>"
      ]
     },
     "metadata": {},
     "output_type": "display_data"
    }
   ],
   "source": [
    "display(Markdown(f\"\"\"$ z = \\\\frac{{X - \\\\mu}}{{\\\\sigma}}$\"\"\"))"
   ]
  },
  {
   "cell_type": "code",
   "execution_count": null,
   "metadata": {},
   "outputs": [
    {
     "data": {
      "text/markdown": [
       "$ z = \\frac{93 - 84}{20}$"
      ],
      "text/plain": [
       "<IPython.core.display.Markdown object>"
      ]
     },
     "metadata": {},
     "output_type": "display_data"
    }
   ],
   "source": [
    "display(Markdown(f\"\"\"$ z = \\\\frac{{{score} - {mean}}}{{{sd}}}$\"\"\"))"
   ]
  },
  {
   "cell_type": "code",
   "execution_count": null,
   "metadata": {},
   "outputs": [
    {
     "data": {
      "text/markdown": [
       "$ z = \\frac{9}{20}$"
      ],
      "text/plain": [
       "<IPython.core.display.Markdown object>"
      ]
     },
     "metadata": {},
     "output_type": "display_data"
    }
   ],
   "source": [
    "display(Markdown(f\"\"\"$ z = \\\\frac{{{score - mean}}}{{{sd}}}$\"\"\"))"
   ]
  },
  {
   "cell_type": "code",
   "execution_count": null,
   "metadata": {},
   "outputs": [
    {
     "data": {
      "text/markdown": [
       "$ z = {0.45}$"
      ],
      "text/plain": [
       "<IPython.core.display.Markdown object>"
      ]
     },
     "metadata": {},
     "output_type": "display_data"
    }
   ],
   "source": [
    "display(Markdown(f\"\"\"$ z = {{{round(((score - mean)/sd),2)}}}$\"\"\"))"
   ]
  },
  {
   "cell_type": "markdown",
   "metadata": {},
   "source": [
    "### Determining a Raw Score from a *z*-Score"
   ]
  },
  {
   "cell_type": "code",
   "execution_count": null,
   "metadata": {},
   "outputs": [
    {
     "data": {
      "text/markdown": [
       "Using the above distribution, \n",
       "                 what is the raw score that corresponds to a z-score of ${0.54}$?"
      ],
      "text/plain": [
       "<IPython.core.display.Markdown object>"
      ]
     },
     "metadata": {},
     "output_type": "display_data"
    }
   ],
   "source": [
    "# @title Click to hide code\n",
    "z_score = round((random.uniform(0, 3)),2)\n",
    "\n",
    "display(Markdown(f\"\"\"Using the above distribution, \n",
    "                 what is the raw score that corresponds to a z-score of ${{{z_score}}}$?\"\"\"))"
   ]
  },
  {
   "cell_type": "code",
   "execution_count": null,
   "metadata": {},
   "outputs": [
    {
     "data": {
      "text/markdown": [
       "$ X = \\mu + z\\sigma$"
      ],
      "text/plain": [
       "<IPython.core.display.Markdown object>"
      ]
     },
     "metadata": {},
     "output_type": "display_data"
    }
   ],
   "source": [
    "display(Markdown(f\"\"\"$ X = \\\\mu + z\\\\sigma$\"\"\"))"
   ]
  },
  {
   "cell_type": "code",
   "execution_count": null,
   "metadata": {},
   "outputs": [
    {
     "data": {
      "text/markdown": [
       "$ X = {84} + {0.54}({20})$"
      ],
      "text/plain": [
       "<IPython.core.display.Markdown object>"
      ]
     },
     "metadata": {},
     "output_type": "display_data"
    }
   ],
   "source": [
    "display(Markdown(f\"\"\"$ X = {{{mean}}} + {{{z_score}}}({{{sd}}})$\"\"\"))"
   ]
  },
  {
   "cell_type": "code",
   "execution_count": null,
   "metadata": {},
   "outputs": [
    {
     "data": {
      "text/markdown": [
       "$ X = {84} + {10.8}$"
      ],
      "text/plain": [
       "<IPython.core.display.Markdown object>"
      ]
     },
     "metadata": {},
     "output_type": "display_data"
    }
   ],
   "source": [
    "display(Markdown(f\"\"\"$ X = {{{mean}}} + {{{round((z_score * sd),2)}}}$\"\"\"))"
   ]
  },
  {
   "cell_type": "code",
   "execution_count": null,
   "metadata": {},
   "outputs": [
    {
     "data": {
      "text/markdown": [
       "$ X = {94.8}$"
      ],
      "text/plain": [
       "<IPython.core.display.Markdown object>"
      ]
     },
     "metadata": {},
     "output_type": "display_data"
    }
   ],
   "source": [
    "display(Markdown(f\"\"\"$ X = {{{round((mean + round((z_score * sd),2)),2)}}}$\"\"\"))"
   ]
  },
  {
   "cell_type": "markdown",
   "metadata": {},
   "source": [
    "### Standardizing a Distribution\n",
    "\n",
    "Now, lets take our original X value (from the top) and convert it into a new distriubion with a specified mean and standard deviation.  For example, the distribution of IQ scores is standardized to have a mean of 100 and a standard deviation of 15."
   ]
  },
  {
   "cell_type": "code",
   "execution_count": null,
   "metadata": {},
   "outputs": [
    {
     "data": {
      "text/markdown": [
       "what is the new value for the previous score ($ X = {93} $)\n",
       "                 after standardizing to a distribution with $\\mu = {450}$ and \n",
       "                 $ \\sigma = {20}$? We will need to use the *z*-score we calculated earlier \n",
       "                 ($ z = {0.54} $) to scale the score based on the new distribution\n",
       "                 "
      ],
      "text/plain": [
       "<IPython.core.display.Markdown object>"
      ]
     },
     "metadata": {},
     "output_type": "display_data"
    }
   ],
   "source": [
    "# @title Click to hide code\n",
    "# set the mean and SD for the distribution\n",
    "new_mean = random.randint(5, 50) * 10\n",
    "new_sd = random.randint(1, 6) * 5\n",
    "\n",
    "display(Markdown(f\"\"\"what is the new value for the previous score ($ X = {{{score}}} $)\n",
    "                 after standardizing to a distribution with $\\\\mu = {{{new_mean}}}$ and \n",
    "                 $ \\\\sigma = {{{new_sd}}}$? We will need to use the *z*-score we calculated earlier \n",
    "                 ($ z = {{{z_score}}} $) to scale the score based on the new distribution\n",
    "                 \"\"\"))"
   ]
  },
  {
   "cell_type": "code",
   "execution_count": null,
   "metadata": {},
   "outputs": [
    {
     "data": {
      "text/markdown": [
       "$ X = \\mu + z\\sigma$"
      ],
      "text/plain": [
       "<IPython.core.display.Markdown object>"
      ]
     },
     "metadata": {},
     "output_type": "display_data"
    }
   ],
   "source": [
    "display(Markdown(f\"\"\"$ X = \\\\mu + z\\\\sigma$\"\"\"))"
   ]
  },
  {
   "cell_type": "code",
   "execution_count": null,
   "metadata": {},
   "outputs": [
    {
     "data": {
      "text/markdown": [
       "$ X = {450} + {0.54}({20})$"
      ],
      "text/plain": [
       "<IPython.core.display.Markdown object>"
      ]
     },
     "metadata": {},
     "output_type": "display_data"
    }
   ],
   "source": [
    "display(Markdown(f\"\"\"$ X = {{{new_mean}}} + {{{z_score}}}({{{new_sd}}})$\"\"\"))"
   ]
  },
  {
   "cell_type": "code",
   "execution_count": null,
   "metadata": {},
   "outputs": [
    {
     "data": {
      "text/markdown": [
       "$ X = {450} + {10.8}$"
      ],
      "text/plain": [
       "<IPython.core.display.Markdown object>"
      ]
     },
     "metadata": {},
     "output_type": "display_data"
    }
   ],
   "source": [
    "display(Markdown(f\"\"\"$ X = {{{new_mean}}} + {{{round((z_score * new_sd),2)}}}$\"\"\"))"
   ]
  },
  {
   "cell_type": "code",
   "execution_count": null,
   "metadata": {},
   "outputs": [
    {
     "data": {
      "text/markdown": [
       "$ X = {460.8}$"
      ],
      "text/plain": [
       "<IPython.core.display.Markdown object>"
      ]
     },
     "metadata": {},
     "output_type": "display_data"
    }
   ],
   "source": [
    "display(Markdown(f\"\"\"$ X = {{{round((new_mean + round((z_score * new_sd),2)),2)}}}$\"\"\"))"
   ]
  }
 ],
 "metadata": {
  "kernelspec": {
   "display_name": "base",
   "language": "python",
   "name": "python3"
  },
  "language_info": {
   "codemirror_mode": {
    "name": "ipython",
    "version": 3
   },
   "file_extension": ".py",
   "mimetype": "text/x-python",
   "name": "python",
   "nbconvert_exporter": "python",
   "pygments_lexer": "ipython3",
   "version": "3.12.7"
  }
 },
 "nbformat": 4,
 "nbformat_minor": 2
}
